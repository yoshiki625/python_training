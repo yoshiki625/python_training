{
 "cells": [
  {
   "cell_type": "code",
   "execution_count": null,
   "metadata": {},
   "outputs": [],
   "source": [
    "# `ipynb` _ Interactive Python Notebook\n",
    "- Markdown -notes\n",
    "- Code - Output(in-place)"
   ]
  },
  {
   "cell_type": "code",
   "execution_count": 2,
   "metadata": {},
   "outputs": [
    {
     "name": "stdout",
     "output_type": "stream",
     "text": [
      "🔥\n",
      "🔥🔥\n",
      "🔥🔥🔥\n",
      "🔥🔥🔥🔥\n",
      "🔥🔥🔥🔥🔥\n"
     ]
    }
   ],
   "source": [
    "for i in range(1, 6):\n",
    "    print(\"🔥\" * i)"
   ]
  },
  {
   "cell_type": "code",
   "execution_count": 3,
   "metadata": {},
   "outputs": [
    {
     "name": "stdout",
     "output_type": "stream",
     "text": [
      "🔥\n",
      "🔥🔥\n",
      "🔥🔥🔥\n",
      "🔥🔥🔥🔥\n",
      "🔥🔥🔥🔥🔥\n"
     ]
    }
   ],
   "source": [
    "for i in range(1, 6):\n",
    "    print(\"🔥\" * i)"
   ]
  },
  {
   "cell_type": "markdown",
   "metadata": {},
   "source": [
    "Below is for calculating area of circle\n",
    "\n",
    "# Below is for calculating area of circle\n",
    "\n",
    "## Below is for calculating area of circle\n",
    "\n",
    "### Below is for calculating area of circle\n",
    "\n",
    "## `range(start,end)`\n",
    "\n",
    "`range()`is usualy used with `for` loop\n",
    "\n",
    "- always **start** with 0\n",
    "    - x\n",
    "        - y\n",
    "    - x\n",
    "        - y\n",
    "- end is not included\n",
    "\n",
    "https://www.markdownguide.org/basic-syntax/#headings\n",
    "\n",
    "\n",
    "\n",
    "```python\n",
    "    print(\"\")\n",
    "    if True \n",
    "    print(\"\")\n",
    "```\n"
   ]
  },
  {
   "cell_type": "code",
   "execution_count": 4,
   "metadata": {},
   "outputs": [
    {
     "name": "stdout",
     "output_type": "stream",
     "text": [
      "Area of circle12.56\n"
     ]
    }
   ],
   "source": [
    "a=input(\"Please tell me a number?\")\n",
    "\n",
    "print(\"Area of circle\" + str(float(a)**2*3.14))"
   ]
  },
  {
   "cell_type": "markdown",
   "metadata": {},
   "source": [
    "# List\n",
    "\n",
    "```py\n",
    "mark1 = 80\n",
    "mark1 = 90\n",
    "mark1 = 100\n",
    "```\n",
    "\n",
    "- Hold multiple values\n",
    "- Index access values\n",
    "\n",
    "# CRUD\n",
    "- Create - `marks = [80,90,100,60,85]`\n",
    "- Read   - `index` & `slice(:)`\n",
    "- Update - `append `& `insert`\n",
    "- Delete - `remove` & `pop`"
   ]
  },
  {
   "cell_type": "code",
   "execution_count": 5,
   "metadata": {},
   "outputs": [
    {
     "name": "stdout",
     "output_type": "stream",
     "text": [
      "[80, 90, 100, 60, 85]\n"
     ]
    }
   ],
   "source": [
    "marks = [80,90,100,60,85]\n",
    "print(marks)"
   ]
  },
  {
   "cell_type": "code",
   "execution_count": null,
   "metadata": {},
   "outputs": [
    {
     "name": "stdout",
     "output_type": "stream",
     "text": [
      "90\n",
      "85\n"
     ]
    }
   ],
   "source": [
    "print(marks[1])\n",
    "print(marks[-1]) # negative index"
   ]
  },
  {
   "cell_type": "markdown",
   "metadata": {},
   "source": [
    "## Slice operator"
   ]
  },
  {
   "cell_type": "code",
   "execution_count": 7,
   "metadata": {},
   "outputs": [
    {
     "name": "stdout",
     "output_type": "stream",
     "text": [
      "[80, 90, 100, 60, 85]\n",
      "[100, 60, 85]\n"
     ]
    }
   ],
   "source": [
    "print(marks)\n",
    "print(marks[2:]) # negative index"
   ]
  },
  {
   "cell_type": "code",
   "execution_count": 8,
   "metadata": {},
   "outputs": [
    {
     "name": "stdout",
     "output_type": "stream",
     "text": [
      "[85, 60, 100, 90, 80]\n"
     ]
    }
   ],
   "source": [
    "print(marks[::-1])# reverse the list"
   ]
  },
  {
   "cell_type": "markdown",
   "metadata": {},
   "source": [
    "## List Methods\n",
    "- `append()` - add at end\n",
    "- `insert()` - middle"
   ]
  },
  {
   "cell_type": "markdown",
   "metadata": {},
   "source": []
  },
  {
   "cell_type": "code",
   "execution_count": null,
   "metadata": {},
   "outputs": [
    {
     "name": "stdout",
     "output_type": "stream",
     "text": [
      "[80, 90, 100, 60, 85]\n",
      "[80, 90, 100, 60, 85, 55]\n",
      "[100, 80, 90, 100, 60, 85, 55]\n"
     ]
    }
   ],
   "source": [
    "marks = [80,90,100,60,85]\n",
    "print(marks)\n",
    "marks.append(55)\n",
    "print(marks)\n",
    "marks.insert(0,100)\n",
    "print(marks)"
   ]
  },
  {
   "cell_type": "code",
   "execution_count": null,
   "metadata": {},
   "outputs": [
    {
     "data": {
      "text/plain": [
       "6"
      ]
     },
     "execution_count": 10,
     "metadata": {},
     "output_type": "execute_result"
    }
   ],
   "source": [
    "len(marks) # len for both list & string"
   ]
  },
  {
   "cell_type": "code",
   "execution_count": null,
   "metadata": {},
   "outputs": [
    {
     "data": {
      "text/plain": [
       "list"
      ]
     },
     "execution_count": 11,
     "metadata": {},
     "output_type": "execute_result"
    }
   ],
   "source": [
    "type(marks)# list\n"
   ]
  },
  {
   "cell_type": "code",
   "execution_count": null,
   "metadata": {},
   "outputs": [],
   "source": [
    "characters = ['Frieren','Gohan','Goku','Itachi','Gon','Pikachu','Itadori']"
   ]
  },
  {
   "cell_type": "code",
   "execution_count": 15,
   "metadata": {},
   "outputs": [
    {
     "name": "stdout",
     "output_type": "stream",
     "text": [
      "['Frieren', 'Gohan', 'Zoro', 'Goku', 'Itachi', 'Gon', 'Pikachu', 'Itadori']\n"
     ]
    }
   ],
   "source": [
    "# insert - add in middle\n",
    "characters = ['Frieren','Gohan','Goku','Itachi','Gon','Pikachu','Itadori']\n",
    "characters.insert(2,'Zoro')\n",
    "print(characters)"
   ]
  },
  {
   "cell_type": "code",
   "execution_count": null,
   "metadata": {},
   "outputs": [],
   "source": []
  },
  {
   "cell_type": "markdown",
   "metadata": {},
   "source": [
    "## Remove items"
   ]
  },
  {
   "cell_type": "code",
   "execution_count": null,
   "metadata": {},
   "outputs": [],
   "source": []
  },
  {
   "cell_type": "code",
   "execution_count": null,
   "metadata": {},
   "outputs": [],
   "source": [
    "characters.pop(4)# Remove by index"
   ]
  },
  {
   "cell_type": "code",
   "execution_count": null,
   "metadata": {},
   "outputs": [],
   "source": [
    "characters.remove('picachu')"
   ]
  },
  {
   "cell_type": "code",
   "execution_count": null,
   "metadata": {},
   "outputs": [],
   "source": [
    "characters"
   ]
  },
  {
   "cell_type": "code",
   "execution_count": null,
   "metadata": {},
   "outputs": [
    {
     "name": "stdout",
     "output_type": "stream",
     "text": [
      "0 80\n",
      "1 90\n",
      "2 100\n",
      "3 60\n",
      "4 85\n"
     ]
    }
   ],
   "source": [
    "marks = [80,90,100,60,85]\n",
    "for i in range(5):\n",
    "    print(i,marks[i])"
   ]
  },
  {
   "cell_type": "code",
   "execution_count": 28,
   "metadata": {},
   "outputs": [
    {
     "name": "stdout",
     "output_type": "stream",
     "text": [
      "80\n",
      "90\n",
      "100\n",
      "60\n",
      "85\n"
     ]
    },
    {
     "data": {
      "text/plain": [
       "[80, 75, 100, 60, 85]"
      ]
     },
     "execution_count": 28,
     "metadata": {},
     "output_type": "execute_result"
    }
   ],
   "source": [
    "# Task: In general inside `range(5)`\n",
    "# Clue: len\n",
    "\n",
    "marks = [80,90,100,60,85]\n",
    "for i in range(len(marks)):\n",
    "    print(marks[i])\n",
    "\n",
    "# Clue\n",
    "marks[1] = 75\n",
    "marks"
   ]
  },
  {
   "cell_type": "code",
   "execution_count": 10,
   "metadata": {},
   "outputs": [
    {
     "name": "stdout",
     "output_type": "stream",
     "text": [
      "[160, 180, 200, 120, 170]\n"
     ]
    }
   ],
   "source": [
    "# Task: Double all the numbers\n",
    "# Output\n",
    "#[160,180,200,120,170]\n",
    "\n",
    "marks = [80,90,100,60,85]\n",
    "double_marks = []\n",
    "for i in range(len(marks)):\n",
    "    double_marks.append(marks[i]*2)\n",
    "print(double_marks)\n"
   ]
  },
  {
   "cell_type": "code",
   "execution_count": 13,
   "metadata": {},
   "outputs": [
    {
     "name": "stdout",
     "output_type": "stream",
     "text": [
      "[4000, 6000, 8000, 3000]\n",
      "[2000, 3000, 4000, 1500]\n"
     ]
    }
   ],
   "source": [
    "# Task: Double the power\n",
    "powers = [2000, 3000, 4000, 1500]\n",
    "\n",
    "\n",
    "# Output\n",
    "# doubled_powers -> [4000, 6000, 8000, 3000]\n",
    "# powers -> [2000, 3000, 4000, 1500]\n",
    "\n",
    "double_powers = []\n",
    "for i in range(len(powers)):\n",
    "    double_powers.append(powers[i]*2)\n",
    "print(double_powers)\n",
    "print(powers)\n",
    "\n"
   ]
  },
  {
   "cell_type": "code",
   "execution_count": null,
   "metadata": {},
   "outputs": [],
   "source": [
    "# Task: Double all the numbers\n",
    "\n",
    "marks = [80, 90, 100, 60, 85]\n",
    "\n",
    "# Output\n",
    "# print(marks) -> [160, 180, 200, 120, 170]\n",
    "# Task: Double the power\n",
    "powers = [2000, 3000, 4000, 1500]\n",
    "\n",
    "\n",
    "# Output\n",
    "# doubled_powers -> [4000, 6000, 8000, 3000]\n",
    "# powers -> [2000, 3000, 4000, 1500]\n"
   ]
  },
  {
   "cell_type": "code",
   "execution_count": 12,
   "metadata": {},
   "outputs": [
    {
     "name": "stdout",
     "output_type": "stream",
     "text": [
      "[160, 180, 200, 120, 170]\n"
     ]
    }
   ],
   "source": [
    "marks = [80,90,100,60,85]\n",
    "for i in range(len(marks)):\n",
    "    marks[i] = marks[i] *2\n",
    "print(marks)"
   ]
  },
  {
   "cell_type": "markdown",
   "metadata": {},
   "source": [
    "## Task 2.1\n",
    "Find longer names (>= 6 letter)\n",
    "\n",
    "`characters = ['Hello kitty', 'Goku', 'Pikachu', 'Luffy', 'Yuji Itadori', \"Levi\"]`\n",
    "\n",
    "### Expected Output\n",
    "`['Hello kitty', 'Pikachu', 'Yuji Itadori']`\n",
    "\n"
   ]
  },
  {
   "cell_type": "code",
   "execution_count": null,
   "metadata": {},
   "outputs": [
    {
     "name": "stdout",
     "output_type": "stream",
     "text": [
      "['Hello kitty', 'Pikachu', 'Yuji Itadori']\n"
     ]
    }
   ],
   "source": [
    "characters = ['Hello kitty', 'Goku', 'Pikachu', 'Luffy', 'Yuji Itadori', \"Levi\"]\n",
    "targets = []\n",
    "\n",
    "for i in range(len(characters)):\n",
    "    if len(characters[i])>= 6:\n",
    "        targets.append(characters[i])\n",
    "print(targets) # or targets"
   ]
  },
  {
   "cell_type": "code",
   "execution_count": 31,
   "metadata": {},
   "outputs": [
    {
     "name": "stdout",
     "output_type": "stream",
     "text": [
      "['Hello kitty', 'Pikachu', 'Yuji Itadori']\n"
     ]
    }
   ],
   "source": [
    "characters = ['Hello kitty', 'Goku', 'Pikachu', 'Luffy', 'Yuji Itadori', \"Levi\"]\n",
    "targets = []\n",
    "\n",
    "# for i in characters:\n",
    "#     print(characters[i])\n",
    "\n",
    "# for .. in | value\n",
    "for character in characters:# character _ value\n",
    "    if len(character)>= 6:\n",
    "        targets.append(character)\n",
    "print(targets) # or targets"
   ]
  },
  {
   "cell_type": "markdown",
   "metadata": {},
   "source": [
    "## Task 2.2\n",
    "\n",
    "Calculate the total of shopping_items & apply tax of 10%\n",
    "\n",
    "```py\n",
    "shopping_items = [1000, 5000,  4000, 2000, 3000]\n",
    "```\n",
    "\n",
    "Expected Output\n",
    "\n",
    "```\n",
    "Your totals is 15,000\n",
    "Tax is 10%      1,500 \n",
    "Your grand total is 16,500\n",
    "```"
   ]
  },
  {
   "cell_type": "code",
   "execution_count": null,
   "metadata": {},
   "outputs": [
    {
     "name": "stdout",
     "output_type": "stream",
     "text": [
      "Your totals is 15000\n",
      "Tax is 10% 1500.0\n",
      "Your grand total is 16500.0\n"
     ]
    }
   ],
   "source": [
    "shopping_items = [1000, 5000,  4000, 2000, 3000]\n",
    "\n",
    "tax_rate = 0.1\n",
    "\n",
    "total = 0\n",
    "\n",
    "for i in range(len(shopping_items)):\n",
    "    total = total + shopping_items[i]\n",
    "tax = tax_rate * total\n",
    "print(f\"Your totals is {total}\")\n",
    "print(f\"Tax is 10% {tax}\")\n",
    "print(f\"Your grand total is {total + tax}\")\n"
   ]
  },
  {
   "cell_type": "code",
   "execution_count": null,
   "metadata": {},
   "outputs": [
    {
     "name": "stdout",
     "output_type": "stream",
     "text": [
      "Your totals is 15,000\n",
      "Tax is 10% 1,500\n",
      "Your grand total is 16,500\n"
     ]
    }
   ],
   "source": [
    "shopping_items = [1000, 5000,  4000, 2000, 3000]\n",
    "\n",
    "tax_rate = 0.1\n",
    "\n",
    "total = 0\n",
    "\n",
    "for shopping_item in shopping_items:\n",
    "    total = total + shopping_item\n",
    "tax = tax_rate * total\n",
    "print(f\"\"\"Your totals is {total:,}\n",
    "Tax is 10% {tax:,.0f}\n",
    "Your grand total is {total + tax:,.0f}\"\"\")"
   ]
  },
  {
   "cell_type": "markdown",
   "metadata": {},
   "source": [
    "https://notes.ragavkumarv.com/python/basics/string-formatting#formatting-numbers-handling-large-figures-%F0%9F%92%B0"
   ]
  },
  {
   "cell_type": "code",
   "execution_count": 40,
   "metadata": {},
   "outputs": [
    {
     "name": "stdout",
     "output_type": "stream",
     "text": [
      "Your totals is 15,001.534599999999\n",
      "Tax is 10% 1,500.153\n",
      "Your grand total is 16,501.69\n"
     ]
    }
   ],
   "source": [
    "shopping_items = [1000, 5000.8566,  4000.678, 2000, 3000]\n",
    "\n",
    "# tax_rate = 0.1\n",
    "\n",
    "total = 0\n",
    "\n",
    "for item in shopping_items:\n",
    "#    print(\"item:\",item,\"total:\", total)\n",
    "    total = total + item # 0 + 1000\n",
    "tax = total * tax_rate\n",
    "grand_total = total + tax\n",
    "\n",
    "print(f\"\"\"Your totals is {total:,}\n",
    "Tax is 10% {tax:,.3f}\n",
    "Your grand total is {grand_total:,.2f}\"\"\")"
   ]
  },
  {
   "cell_type": "code",
   "execution_count": null,
   "metadata": {},
   "outputs": [],
   "source": [
    "# Numeric Separator (_)\n",
    "salary = 420_000_000  # Using underscores for readability #Easy to read #DX = Developer Experience\n",
    "salary = 420000000\n",
    "print(salary)  # Output: 420000000"
   ]
  },
  {
   "cell_type": "markdown",
   "metadata": {},
   "source": [
    "## Multi line string"
   ]
  },
  {
   "cell_type": "code",
   "execution_count": null,
   "metadata": {},
   "outputs": [],
   "source": [
    "print(\"\"\"\n",
    "This is super cool\n",
    "This is amazing\n",
    "\"\"\")"
   ]
  },
  {
   "cell_type": "code",
   "execution_count": 34,
   "metadata": {},
   "outputs": [
    {
     "name": "stdout",
     "output_type": "stream",
     "text": [
      "\n",
      "This is super cool\n",
      "This is amazing\n",
      "Taisei has 2000\n",
      "\n"
     ]
    }
   ],
   "source": [
    "followers = 2_000\n",
    "\n",
    "print(f\"\"\"\n",
    "This is super cool\n",
    "This is amazing\n",
    "Taisei has {followers}\n",
    "\"\"\")"
   ]
  },
  {
   "cell_type": "code",
   "execution_count": null,
   "metadata": {},
   "outputs": [
    {
     "name": "stdout",
     "output_type": "stream",
     "text": [
      "\n",
      "Your totals is 15,000\n",
      "Tax is 10% 1,500\n",
      "Your grand total is 16,500\n",
      "\n"
     ]
    }
   ],
   "source": [
    "shopping_items = [1_000, 5_000,  4_000, 2_000, 3_000] # DX ⬆️\n",
    "\n",
    "# Sum\n",
    "total = sum(shopping_items)# DX\n",
    "tax_rate = 0.1\n",
    "\n",
    "tax = total * tax_rate\n",
    "grand_total = total + tax\n",
    "\n",
    "# print(f\"Your total is {total:,}\")   # UX ⬆️\n",
    "# print(f\"Tax is 10%    {tax:,} \")    \n",
    "# print(f\"Your grand total is {grand_total:,}\")\n",
    "\n",
    "print(\n",
    "f\"\"\"\n",
    "Your totals is {total:,}\n",
    "Tax is 10% {tax:,.0f}\n",
    "Your grand total is {grand_total:,.0f}\n",
    "\"\"\"\n",
    ")  # DX"
   ]
  },
  {
   "cell_type": "code",
   "execution_count": 42,
   "metadata": {},
   "outputs": [
    {
     "data": {
      "text/plain": [
       "210"
      ]
     },
     "execution_count": 42,
     "metadata": {},
     "output_type": "execute_result"
    }
   ],
   "source": [
    "marks = [90,80,40]\n",
    "\n",
    "sum(marks)"
   ]
  }
 ],
 "metadata": {
  "kernelspec": {
   "display_name": "Python 3",
   "language": "python",
   "name": "python3"
  },
  "language_info": {
   "codemirror_mode": {
    "name": "ipython",
    "version": 3
   },
   "file_extension": ".py",
   "mimetype": "text/x-python",
   "name": "python",
   "nbconvert_exporter": "python",
   "pygments_lexer": "ipython3",
   "version": "3.13.0"
  }
 },
 "nbformat": 4,
 "nbformat_minor": 2
}
