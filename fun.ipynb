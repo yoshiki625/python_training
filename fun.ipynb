{
 "cells": [
  {
   "cell_type": "code",
   "execution_count": 2,
   "metadata": {},
   "outputs": [
    {
     "name": "stdout",
     "output_type": "stream",
     "text": [
      "🔥\n",
      "🔥🔥\n",
      "🔥🔥🔥\n",
      "🔥🔥🔥🔥\n",
      "🔥🔥🔥🔥🔥\n"
     ]
    }
   ],
   "source": [
    "for i in range(1, 6):\n",
    "    print(\"🔥\" * i)"
   ]
  },
  {
   "cell_type": "code",
   "execution_count": 3,
   "metadata": {},
   "outputs": [
    {
     "name": "stdout",
     "output_type": "stream",
     "text": [
      "🔥\n",
      "🔥🔥\n",
      "🔥🔥🔥\n",
      "🔥🔥🔥🔥\n",
      "🔥🔥🔥🔥🔥\n"
     ]
    }
   ],
   "source": [
    "for i in range(1, 6):\n",
    "    print(\"🔥\" * i)"
   ]
  },
  {
   "cell_type": "markdown",
   "metadata": {},
   "source": [
    "Below is for calculating area of circle\n",
    "\n",
    "# Below is for calculating area of circle\n",
    "\n",
    "## Below is for calculating area of circle\n",
    "\n",
    "### Below is for calculating area of circle\n",
    "\n",
    "## `range(start,end)`\n",
    "\n",
    "`range()`is usualy used with `for` loop\n",
    "\n",
    "- always **start** with 0\n",
    "    - x\n",
    "        - y\n",
    "    - x\n",
    "        - y\n",
    "- end is not included\n",
    "\n",
    "https://www.markdownguide.org/basic-syntax/#headings\n",
    "\n",
    "\n",
    "\n",
    "```python\n",
    "    print(\"\")\n",
    "    if True \n",
    "    print(\"\")\n",
    "```\n"
   ]
  },
  {
   "cell_type": "code",
   "execution_count": null,
   "metadata": {},
   "outputs": [
    {
     "ename": "TypeError",
     "evalue": "unsupported operand type(s) for ** or pow(): 'str' and 'int'",
     "output_type": "error",
     "traceback": [
      "\u001b[1;31m---------------------------------------------------------------------------\u001b[0m",
      "\u001b[1;31mTypeError\u001b[0m                                 Traceback (most recent call last)",
      "Cell \u001b[1;32mIn[4], line 3\u001b[0m\n\u001b[0;32m      1\u001b[0m a\u001b[38;5;241m=\u001b[39m\u001b[38;5;28minput\u001b[39m(\u001b[38;5;124m\"\u001b[39m\u001b[38;5;124mPlease tell me a number?\u001b[39m\u001b[38;5;124m\"\u001b[39m)\n\u001b[1;32m----> 3\u001b[0m \u001b[38;5;28mprint\u001b[39m(\u001b[38;5;124m\"\u001b[39m\u001b[38;5;124mArea of circle\u001b[39m\u001b[38;5;124m\"\u001b[39m \u001b[38;5;241m+\u001b[39m \u001b[38;5;28;43mstr\u001b[39;49m\u001b[43m(\u001b[49m\u001b[38;5;28;43mfloat\u001b[39;49m\u001b[43m(\u001b[49m\u001b[43ma\u001b[49m\u001b[43m)\u001b[49m\u001b[43m)\u001b[49m\u001b[38;5;241;43m*\u001b[39;49m\u001b[38;5;241;43m*\u001b[39;49m\u001b[38;5;241;43m2\u001b[39;49m\u001b[38;5;241m*\u001b[39m\u001b[38;5;241m3.14\u001b[39m)\n",
      "\u001b[1;31mTypeError\u001b[0m: unsupported operand type(s) for ** or pow(): 'str' and 'int'"
     ]
    }
   ],
   "source": [
    "a=input(\"Please tell me a number?\")\n",
    "\n",
    "print(\"Area of circle\" + str(float(a))**2*3.14)"
   ]
  },
  {
   "cell_type": "markdown",
   "metadata": {},
   "source": [
    "#List\n",
    "\n",
    "```py\n",
    "mark1 = 80\n",
    "mark1 = 90\n",
    "mark1 = 100\n",
    "```\n",
    "\n",
    "- Hold multiple values\n",
    "- Index access values\n",
    "\n",
    "# CRUD\n",
    "- Create - `marks = [80,90,100,60,85]`\n",
    "- Read   - `index` & `slice(:)`\n",
    "- Update - `append `& `insert`\n",
    "- Delete - `remove` & `pop`"
   ]
  },
  {
   "cell_type": "code",
   "execution_count": 5,
   "metadata": {},
   "outputs": [
    {
     "name": "stdout",
     "output_type": "stream",
     "text": [
      "[80, 90, 100, 60, 85]\n"
     ]
    }
   ],
   "source": [
    "marks = [80,90,100,60,85]\n",
    "print(marks)"
   ]
  },
  {
   "cell_type": "code",
   "execution_count": null,
   "metadata": {},
   "outputs": [
    {
     "name": "stdout",
     "output_type": "stream",
     "text": [
      "90\n",
      "85\n"
     ]
    }
   ],
   "source": [
    "print(marks[1])\n",
    "print(marks[-1]) # negative index"
   ]
  },
  {
   "cell_type": "markdown",
   "metadata": {},
   "source": [
    "## Slice operator"
   ]
  },
  {
   "cell_type": "code",
   "execution_count": 7,
   "metadata": {},
   "outputs": [
    {
     "name": "stdout",
     "output_type": "stream",
     "text": [
      "[80, 90, 100, 60, 85]\n",
      "[100, 60, 85]\n"
     ]
    }
   ],
   "source": [
    "print(marks)\n",
    "print(marks[2:]) # negative index"
   ]
  },
  {
   "cell_type": "code",
   "execution_count": 8,
   "metadata": {},
   "outputs": [
    {
     "name": "stdout",
     "output_type": "stream",
     "text": [
      "[85, 60, 100, 90, 80]\n"
     ]
    }
   ],
   "source": [
    "print(marks[::-1])# reverse the list"
   ]
  },
  {
   "cell_type": "markdown",
   "metadata": {},
   "source": [
    "## List Methods\n",
    "- `append()` - add at end\n",
    "- `insert()` - "
   ]
  },
  {
   "cell_type": "markdown",
   "metadata": {},
   "source": []
  },
  {
   "cell_type": "code",
   "execution_count": 9,
   "metadata": {},
   "outputs": [
    {
     "name": "stdout",
     "output_type": "stream",
     "text": [
      "[80, 90, 100, 60, 85]\n",
      "[80, 90, 100, 60, 85, 55]\n"
     ]
    }
   ],
   "source": [
    "marks = [80,90,100,60,85]\n",
    "print(marks)\n",
    "marks.append(55)\n",
    "print(marks)"
   ]
  },
  {
   "cell_type": "code",
   "execution_count": null,
   "metadata": {},
   "outputs": [
    {
     "data": {
      "text/plain": [
       "6"
      ]
     },
     "execution_count": 10,
     "metadata": {},
     "output_type": "execute_result"
    }
   ],
   "source": [
    "len(marks) # len for both list & string"
   ]
  },
  {
   "cell_type": "code",
   "execution_count": null,
   "metadata": {},
   "outputs": [
    {
     "data": {
      "text/plain": [
       "list"
      ]
     },
     "execution_count": 11,
     "metadata": {},
     "output_type": "execute_result"
    }
   ],
   "source": [
    "type(marks)# list\n"
   ]
  },
  {
   "cell_type": "code",
   "execution_count": null,
   "metadata": {},
   "outputs": [],
   "source": [
    "characters = ['Frieren','Gohan','Goku','Itachi','Gon','Pikachu','Itadori']"
   ]
  },
  {
   "cell_type": "code",
   "execution_count": 15,
   "metadata": {},
   "outputs": [
    {
     "name": "stdout",
     "output_type": "stream",
     "text": [
      "['Frieren', 'Gohan', 'Zoro', 'Goku', 'Itachi', 'Gon', 'Pikachu', 'Itadori']\n"
     ]
    }
   ],
   "source": [
    "# insert - add in middle\n",
    "characters = ['Frieren','Gohan','Goku','Itachi','Gon','Pikachu','Itadori']\n",
    "characters.insert(2,'Zoro')\n",
    "print(characters)"
   ]
  },
  {
   "cell_type": "code",
   "execution_count": null,
   "metadata": {},
   "outputs": [],
   "source": []
  },
  {
   "cell_type": "markdown",
   "metadata": {},
   "source": [
    "## Remove items"
   ]
  },
  {
   "cell_type": "code",
   "execution_count": null,
   "metadata": {},
   "outputs": [],
   "source": []
  },
  {
   "cell_type": "code",
   "execution_count": null,
   "metadata": {},
   "outputs": [],
   "source": [
    "characters.pop(4)# Remove by index"
   ]
  },
  {
   "cell_type": "code",
   "execution_count": null,
   "metadata": {},
   "outputs": [],
   "source": [
    "characters.remove('picachu')"
   ]
  },
  {
   "cell_type": "code",
   "execution_count": null,
   "metadata": {},
   "outputs": [],
   "source": [
    "characters"
   ]
  },
  {
   "cell_type": "code",
   "execution_count": null,
   "metadata": {},
   "outputs": [
    {
     "name": "stdout",
     "output_type": "stream",
     "text": [
      "0 80\n",
      "1 90\n",
      "2 100\n",
      "3 60\n",
      "4 85\n"
     ]
    }
   ],
   "source": [
    "marks = [80,90,100,60,85]\n",
    "for i in range(5):\n",
    "    print(i,marks[i])"
   ]
  },
  {
   "cell_type": "code",
   "execution_count": 28,
   "metadata": {},
   "outputs": [
    {
     "name": "stdout",
     "output_type": "stream",
     "text": [
      "80\n",
      "90\n",
      "100\n",
      "60\n",
      "85\n"
     ]
    },
    {
     "data": {
      "text/plain": [
       "[80, 75, 100, 60, 85]"
      ]
     },
     "execution_count": 28,
     "metadata": {},
     "output_type": "execute_result"
    }
   ],
   "source": [
    "# Task: In general inside `range(5)`\n",
    "# Clue: len\n",
    "\n",
    "marks = [80,90,100,60,85]\n",
    "for i in range(len(marks)):\n",
    "    print(marks[i])\n",
    "\n",
    "# Clue\n",
    "marks[1] = 75\n",
    "marks"
   ]
  },
  {
   "cell_type": "code",
   "execution_count": 36,
   "metadata": {},
   "outputs": [
    {
     "name": "stdout",
     "output_type": "stream",
     "text": [
      "[160, 180, 200, 120, 170]\n"
     ]
    }
   ],
   "source": [
    "# Task: Double all the numbers\n",
    "# Output\n",
    "#[160,180,200,120,170]\n",
    "\n",
    "marks = [80,90,100,60,85]\n",
    "double_marks = []\n",
    "for i in range(len(marks)):\n",
    "    double_marks.append(marks[i]*2)\n",
    "print(double_marks)"
   ]
  },
  {
   "cell_type": "code",
   "execution_count": 38,
   "metadata": {},
   "outputs": [
    {
     "name": "stdout",
     "output_type": "stream",
     "text": [
      "[4000, 6000, 8000, 3000]\n",
      "[2000, 3000, 4000, 1500]\n"
     ]
    }
   ],
   "source": [
    "# Task: Double the power\n",
    "powers = [2000, 3000, 4000, 1500]\n",
    "\n",
    "\n",
    "# Output\n",
    "# doubled_powers -> [4000, 6000, 8000, 3000]\n",
    "# powers -> [2000, 3000, 4000, 1500]\n",
    "\n",
    "double_powers = []\n",
    "for i in range(len(powers)):\n",
    "    double_powers.append(powers[i]*2)\n",
    "print(double_powers)\n",
    "print(powers)\n",
    "\n"
   ]
  }
 ],
 "metadata": {
  "kernelspec": {
   "display_name": "Python 3",
   "language": "python",
   "name": "python3"
  },
  "language_info": {
   "codemirror_mode": {
    "name": "ipython",
    "version": 3
   },
   "file_extension": ".py",
   "mimetype": "text/x-python",
   "name": "python",
   "nbconvert_exporter": "python",
   "pygments_lexer": "ipython3",
   "version": "3.13.0"
  }
 },
 "nbformat": 4,
 "nbformat_minor": 2
}
