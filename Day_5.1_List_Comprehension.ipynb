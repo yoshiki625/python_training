{
 "cells": [
  {
   "cell_type": "code",
   "execution_count": null,
   "metadata": {},
   "outputs": [],
   "source": [
    "# \n"
   ]
  },
  {
   "cell_type": "code",
   "execution_count": null,
   "metadata": {},
   "outputs": [],
   "source": [
    "marks = [90,80,60]\n",
    "\n",
    "# List Conprehension(special)(pythonic way)\n",
    "# Double my mark for each mark in marks]\n",
    "# Transformation(Henkan)\n",
    "dbl_marks = [mark * 2 for mark in marks]# List Conprehension\n",
    "\n",
    "dbl_marks"
   ]
  },
  {
   "cell_type": "code",
   "execution_count": 5,
   "metadata": {},
   "outputs": [
    {
     "name": "stdout",
     "output_type": "stream",
     "text": [
      "[90, 80]\n"
     ]
    }
   ],
   "source": [
    "# Filter with Comprehension\n",
    "marks = [90,80,60]\n",
    "\n",
    "# Only mark >70\n",
    "\n",
    "# Give me mark for each mark in marks where > 70\n",
    "highest_marks = [mark for mark in marks if mark > 70]\n",
    "print(highest_marks)"
   ]
  },
  {
   "cell_type": "code",
   "execution_count": null,
   "metadata": {},
   "outputs": [],
   "source": [
    "# Transformation + Filter\n",
    "marks = [90,80,60]\n",
    "#  (1.Transformation)(2. for loop) (3. Filter)\n",
    "[mark for mark in marks if mark > 70]"
   ]
  },
  {
   "cell_type": "markdown",
   "metadata": {},
   "source": [
    "marks = [ 90, 80, 60]\n",
    "\n",
    "\n",
    "# List Comprehension (Special) (Pythonic way) ✅\n",
    "# Double my mark for each mark in marks\n",
    "# Transformation (Henkan)\n",
    "dbl_marks = [mark * 2 for mark in marks] # ✅ List Comprehension\n",
    "\n",
    "dbl_marks\n",
    "# Filter with Comprehension\n",
    "\n",
    "marks = [90, 80, 60]\n",
    "\n",
    "# Only mark > 70\n",
    "\n",
    "# (Give me mark) (for each mark in marks) (where mark > 70)\n",
    "highest_marks = [mark for mark in marks if mark > 70]\n",
    "\n",
    "print(highest_marks)\n",
    "# Transformation + Filter\n",
    "\n",
    "marks = [90, 80, 60]\n",
    "# (1. Transformation) (2. for loop) (3. Filter)\n",
    "[mark * 2 for mark in marks if mark > 70]"
   ]
  },
  {
   "cell_type": "markdown",
   "metadata": {},
   "source": [
    "## Task with list Comprehension"
   ]
  },
  {
   "cell_type": "markdown",
   "metadata": {},
   "source": [
    "## Task 1.1\n",
    "Please provide the list of book titles\n",
    "\n",
    "\n",
    "```python\n",
    "books = [\n",
    "    {\"title\": \"Infinite Jest\", \"rating\": 4.5, \"genre\": \"Fiction\"},\n",
    "    {\"title\": \"The Catcher in the Rye\", \"rating\": 3.9, \"genre\": \"Fiction\"},\n",
    "    {\"title\": \"Sapiens\", \"rating\": 4.9, \"genre\": \"History\"},\n",
    "    {\"title\": \"A Brief History of Time\", \"rating\": 4.8, \"genre\": \"Science\"},\n",
    "    {\"title\": \"Clean Code\", \"rating\": 4.7, \"genre\": \"Technology\"},\n",
    "]\n",
    "\n",
    "```\n",
    "\n",
    "### Expected Output\n",
    "```\n",
    "[\"Infinite Jest\",  \"The Catcher in the Rye\", \"S\n"
   ]
  },
  {
   "cell_type": "code",
   "execution_count": null,
   "metadata": {},
   "outputs": [
    {
     "name": "stdout",
     "output_type": "stream",
     "text": [
      "['Infinite Jest', 'The Catcher in the Rye', 'Sapiens', 'A Brief History of Time', 'Clean Code']\n"
     ]
    }
   ],
   "source": [
    "books = [\n",
    "    {\"title\": \"Infinite Jest\", \"rating\": 4.5, \"genre\": \"Fiction\"},\n",
    "    {\"title\": \"The Catcher in the Rye\", \"rating\": 3.9, \"genre\": \"Fiction\"},\n",
    "    {\"title\": \"Sapiens\", \"rating\": 4.9, \"genre\": \"History\"},\n",
    "    {\"title\": \"A Brief History of Time\", \"rating\": 4.8, \"genre\": \"Science\"},\n",
    "    {\"title\": \"Clean Code\", \"rating\": 4.7, \"genre\": \"Technology\"},\n",
    "]\n",
    "\n",
    "title_list = [book[\"title\"]for book in books]\n",
    "print(title_list)"
   ]
  },
  {
   "cell_type": "markdown",
   "metadata": {},
   "source": [
    "## Task 1.2\n",
    "Please provide the only Fiction books\n",
    "\n",
    "\n",
    "### Expected Output\n",
    "```\n",
    "[\"Infinite Jest\",  \"The Catcher in the Rye\"]\n",
    "```\n",
    "### Expected Output\n",
    "```\n",
    "[\"Infinite Jest\",  \"The Catcher in the Rye\", \"Sapiens\",  \"A Brief History of Time\",  \"Clean Code\"]\n",
    "```"
   ]
  },
  {
   "cell_type": "code",
   "execution_count": 2,
   "metadata": {},
   "outputs": [
    {
     "name": "stdout",
     "output_type": "stream",
     "text": [
      "['Infinite Jest', 'The Catcher in the Rye']\n"
     ]
    }
   ],
   "source": [
    "fiction_list = [book[\"title\"]for book in books if book [\"genre\"] == \"Fiction\"]\n",
    "print(fiction_list)\n"
   ]
  },
  {
   "cell_type": "markdown",
   "metadata": {},
   "source": [
    "## Task 1.3\n",
    "Please provide Highest rated books (>= 4.7)\n",
    "\n",
    "\n",
    "### Expected Output\n",
    "```\n",
    "Highest rated books are: Sapiens, A Brief History of Time and Clean Code \n",
    "```\n",
    "```"
   ]
  },
  {
   "cell_type": "code",
   "execution_count": 3,
   "metadata": {},
   "outputs": [
    {
     "name": "stdout",
     "output_type": "stream",
     "text": [
      "Highest rated books are:['Sapiens', 'A Brief History of Time', 'Clean Code']\n",
      "Highest rated books are: Sapiens, A Brief History of Time and Clean Code\n"
     ]
    }
   ],
   "source": [
    "high_rate_book = [book[\"title\"] for book in books if book [\"rating\"] >= 4.7]\n",
    "\n",
    "print(f\"Highest rated books are:{high_rate_book}\")\n",
    "\n",
    "# high_rate_book_string = \", \".join(high_rate_book[:-1])+\" and \"+high_rate_book[-1]\n",
    "high_rate_book_string = f\"{', '.join(high_rate_book[:-1])} and {high_rate_book[-1]}\"\n",
    "print(f\"Highest rated books are: {high_rate_book_string}\")"
   ]
  },
  {
   "cell_type": "markdown",
   "metadata": {},
   "source": [
    "## Task 1.4\n",
    "\n",
    "Get fav genre from user\n",
    "\n",
    "### Expected Output\n",
    "\n",
    "```\n",
    "Genre? Fiction\n",
    "Average rating of Fiction: 4.2\n",
    "```"
   ]
  },
  {
   "cell_type": "code",
   "execution_count": null,
   "metadata": {},
   "outputs": [
    {
     "name": "stdout",
     "output_type": "stream",
     "text": [
      "Average rating of fiction: 4.2\n"
     ]
    }
   ],
   "source": [
    "genre = input(\"Genre? \").lower()\n",
    "target_list =[book[\"rating\"] for book in books if book[\"genre\"].lower() == genre]\n",
    "\n",
    "if len(target_list) != 0:\n",
    "    average = sum(target_list)/len(target_list)\n",
    "    print(f\"Average rating of {genre}: {average}\")\n",
    "else:\n",
    "    print(f\"no value\")"
   ]
  },
  {
   "cell_type": "markdown",
   "metadata": {},
   "source": [
    "## Task 1.5"
   ]
  },
  {
   "cell_type": "code",
   "execution_count": null,
   "metadata": {},
   "outputs": [],
   "source": [
    "books = [\n",
    "    {\"title\": \"Infinite Jest\", \"rating\": 4.5, \"genre\": \"Fiction\"},\n",
    "    {\"title\": \"The Catcher in the Rye\", \"rating\": 3.9, \"genre\": \"Fiction\"},\n",
    "    {\"title\": \"Sapiens\", \"rating\": 4.9, \"genre\": \"History\"},\n",
    "    {\"title\": \"A Brief History of Time\", \"rating\": 4.8, \"genre\": \"Science\"},\n",
    "    {\"title\": \"Clean Code\", \"rating\": 4.7, \"genre\": \"Technology\"},\n",
    "]\n",
    "\n",
    "outputs = {} \n",
    "\n",
    "for book in books:\n",
    "    if outputs.get(book[\"genre\"]):\n",
    "        outputs[book[\"genre\"]] += 1\n",
    "    else:\n",
    "        outputs[book[\"genre\"]] = 1\n",
    "\n",
    "for output in outputs:\n",
    "    print(f)"
   ]
  }
 ],
 "metadata": {
  "kernelspec": {
   "display_name": "Python 3",
   "language": "python",
   "name": "python3"
  },
  "language_info": {
   "codemirror_mode": {
    "name": "ipython",
    "version": 3
   },
   "file_extension": ".py",
   "mimetype": "text/x-python",
   "name": "python",
   "nbconvert_exporter": "python",
   "pygments_lexer": "ipython3",
   "version": "3.13.0"
  }
 },
 "nbformat": 4,
 "nbformat_minor": 2
}
