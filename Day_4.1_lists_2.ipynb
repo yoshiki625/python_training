{
 "cells": [
  {
   "cell_type": "markdown",
   "metadata": {},
   "source": [
    "## Joining list"
   ]
  },
  {
   "cell_type": "code",
   "execution_count": null,
   "metadata": {},
   "outputs": [
    {
     "name": "stdout",
     "output_type": "stream",
     "text": [
      "['🍎', '🍊', '🍓', '🍍', '🥕', '🥒', '🍆', '🥔']\n"
     ]
    }
   ],
   "source": [
    "fruits = [\"🍎\", \"🍊\", \"🍓\", \"🍍\"]\n",
    "vegetables = [\"🥕\", \"🥒\", \"🍆\", \"🥔\"]\n",
    "\n",
    "basket = fruits+vegetables # concatenate two list\n",
    "\n",
    "print(basket)"
   ]
  },
  {
   "cell_type": "markdown",
   "metadata": {},
   "source": [
    "## Repetition operetor (*)"
   ]
  },
  {
   "cell_type": "code",
   "execution_count": 4,
   "metadata": {},
   "outputs": [
    {
     "data": {
      "text/plain": [
       "['🥕', '🥒', '🍆', '🥔', '🥕', '🥒', '🍆', '🥔']"
      ]
     },
     "execution_count": 4,
     "metadata": {},
     "output_type": "execute_result"
    }
   ],
   "source": [
    "vegetables * 2"
   ]
  },
  {
   "cell_type": "markdown",
   "metadata": {},
   "source": [
    "## List to String (Conversion)"
   ]
  },
  {
   "cell_type": "code",
   "execution_count": 8,
   "metadata": {},
   "outputs": [
    {
     "name": "stdout",
     "output_type": "stream",
     "text": [
      "🍎, 🍊, 🍓, 🍍\n"
     ]
    },
    {
     "data": {
      "text/plain": [
       "'🍎, 🍊, 🍓, 🍍'"
      ]
     },
     "execution_count": 8,
     "metadata": {},
     "output_type": "execute_result"
    }
   ],
   "source": [
    "fruits = [\"🍎\", \"🍊\", \"🍓\", \"🍍\"]\n",
    "\n",
    "print(\", \".join(fruits))\n",
    "\n",
    "# Expected Output\n",
    "#\"🍎, 🍊, 🍓, 🍍\"\n",
    "\n",
    "\", \".join(fruits)\n"
   ]
  },
  {
   "cell_type": "markdown",
   "metadata": {},
   "source": [
    "## String to List (Conversion)\n",
    "\n",
    "- `split()`\n",
    "- `split()` 🙅‍♂️ `join()`"
   ]
  },
  {
   "cell_type": "code",
   "execution_count": 9,
   "metadata": {},
   "outputs": [
    {
     "data": {
      "text/plain": [
       "['mint', 'chocolate', 'vanilla']"
      ]
     },
     "execution_count": 9,
     "metadata": {},
     "output_type": "execute_result"
    }
   ],
   "source": [
    "ice_creams = \"mint|chocolate|vanilla\"\n",
    "\n",
    "ice_creams.split(\"|\")"
   ]
  },
  {
   "cell_type": "code",
   "execution_count": null,
   "metadata": {},
   "outputs": [
    {
     "name": "stdout",
     "output_type": "stream",
     "text": [
      "[100, 200, 300, 500]\n",
      "[100, 200, 400]\n",
      "[100, 200, 300, 500]\n"
     ]
    }
   ],
   "source": [
    "num1 = [100,200]\n",
    "num2 = [100,200]\n",
    "num3 = num1\n",
    "\n",
    "num1.append(300)\n",
    "num2.append(400)\n",
    "num3.append(500)\n",
    "\n",
    "print(num1) # [100, 200, 300, 500]\n",
    "print(num2) # [100, 200, 400]\n",
    "print(num3) # [100, 200, 300, 500]\n",
    "\n",
    "# num1 and num3 affect each other "
   ]
  }
 ],
 "metadata": {
  "kernelspec": {
   "display_name": "Python 3",
   "language": "python",
   "name": "python3"
  },
  "language_info": {
   "codemirror_mode": {
    "name": "ipython",
    "version": 3
   },
   "file_extension": ".py",
   "mimetype": "text/x-python",
   "name": "python",
   "nbconvert_exporter": "python",
   "pygments_lexer": "ipython3",
   "version": "3.13.0"
  }
 },
 "nbformat": 4,
 "nbformat_minor": 2
}
