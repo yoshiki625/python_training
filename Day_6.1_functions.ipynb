{
 "cells": [
  {
   "cell_type": "markdown",
   "metadata": {},
   "source": [
    "# Functions\n",
    "- Reuse logic\n",
    "- "
   ]
  },
  {
   "cell_type": "code",
   "execution_count": 1,
   "metadata": {},
   "outputs": [
    {
     "name": "stdout",
     "output_type": "stream",
     "text": [
      "7\n"
     ]
    }
   ],
   "source": [
    "t1 = 3\n",
    "t2 = 4\n",
    "\n",
    "t_sum = t1 + t2\n",
    "\n",
    "print(t_sum)"
   ]
  },
  {
   "cell_type": "code",
   "execution_count": 2,
   "metadata": {},
   "outputs": [
    {
     "name": "stdout",
     "output_type": "stream",
     "text": [
      "53\n"
     ]
    }
   ],
   "source": [
    "t1 = 13\n",
    "t2 = 40\n",
    "\n",
    "t_sum = t1 + t2\n",
    "\n",
    "print(t_sum)"
   ]
  },
  {
   "cell_type": "code",
   "execution_count": 3,
   "metadata": {},
   "outputs": [
    {
     "name": "stdout",
     "output_type": "stream",
     "text": [
      "90\n"
     ]
    }
   ],
   "source": [
    "t1 = 50\n",
    "t2 = 40\n",
    "\n",
    "t_sum = t1 + t2\n",
    "\n",
    "print(t_sum)"
   ]
  },
  {
   "cell_type": "markdown",
   "metadata": {},
   "source": [
    "# Define Function(Function Declaration / Function Definition)"
   ]
  },
  {
   "cell_type": "code",
   "execution_count": 6,
   "metadata": {},
   "outputs": [],
   "source": [
    "def add(n1,n2):\n",
    "    n_sum = n1 + n2\n",
    "    return n_sum # returning to the call"
   ]
  },
  {
   "cell_type": "markdown",
   "metadata": {},
   "source": [
    "# Terms of function\n",
    "- Function name\n",
    "- Function body\n",
    "- parameter\n",
    "- argument\n",
    "- Declaration\n",
    "- Call\n",
    "\n",
    "What is the minimum no. of parameter? 0\n",
    "What data type should be the argument? all(str,bool,)"
   ]
  },
  {
   "cell_type": "markdown",
   "metadata": {},
   "source": [
    "# Call Function\n",
    "- call `n` number of times"
   ]
  },
  {
   "cell_type": "code",
   "execution_count": 8,
   "metadata": {},
   "outputs": [
    {
     "name": "stdout",
     "output_type": "stream",
     "text": [
      "90.6464\n",
      "110\n",
      "90.67670000000001\n"
     ]
    }
   ],
   "source": [
    "print(add(40.5353,50.1111))\n",
    "print(add(20,90))\n",
    "print(add(60.5656,30.1111))"
   ]
  },
  {
   "cell_type": "code",
   "execution_count": 11,
   "metadata": {},
   "outputs": [],
   "source": [
    "# declare\n",
    "def fire(row):\n",
    "    i = 1\n",
    "\n",
    "    while i <= row:\n",
    "        print(\"🔥\" * i)\n",
    "        i = i + 1\n"
   ]
  },
  {
   "cell_type": "code",
   "execution_count": 12,
   "metadata": {},
   "outputs": [
    {
     "name": "stdout",
     "output_type": "stream",
     "text": [
      "🔥\n",
      "🔥🔥\n",
      "🔥\n",
      "🔥🔥\n",
      "🔥🔥🔥\n",
      "🔥🔥🔥🔥\n",
      "🔥🔥🔥🔥🔥\n",
      "🔥🔥🔥🔥🔥🔥\n",
      "🔥\n",
      "🔥🔥\n",
      "🔥🔥🔥\n",
      "🔥🔥🔥🔥\n"
     ]
    }
   ],
   "source": [
    "fire(2) # call\n",
    "fire(6)\n",
    "fire(4)"
   ]
  },
  {
   "cell_type": "markdown",
   "metadata": {},
   "source": [
    "# Task 1.2"
   ]
  },
  {
   "cell_type": "code",
   "execution_count": 15,
   "metadata": {},
   "outputs": [
    {
     "name": "stdout",
     "output_type": "stream",
     "text": [
      "🍓\n",
      "🍓🍓\n",
      "🍍\n",
      "🍍🍍\n",
      "🍍🍍🍍\n",
      "🍍🍍🍍🍍\n",
      "🍍🍍🍍🍍🍍\n",
      "🍍🍍🍍🍍🍍🍍\n",
      "🥕\n",
      "🥕🥕\n",
      "🥕🥕🥕\n",
      "🥕🥕🥕🥕\n"
     ]
    }
   ],
   "source": [
    "def fire(row,pattern):\n",
    "    i = 1\n",
    "\n",
    "    while i <= row:\n",
    "        print(pattern * i)\n",
    "        i = i + 1\n",
    "\n",
    "fire(2,\"🍓\") # call\n",
    "fire(6,\"🍍\")\n",
    "fire(4,\"🥕\")"
   ]
  },
  {
   "cell_type": "markdown",
   "metadata": {},
   "source": [
    "shop = [\n",
    "    {\"name\": \"Apple\", \"quantity\": 30, \"price\": 0.50}, # 15\n",
    "    {\"name\": \"Banana\", \"quantity\": 20, \"price\": 0.20}, # 4\n",
    "]\n",
    "## Tasks\n",
    " \n",
    " 1. `get_total_items(shop)` -> 50\n",
    " 2. `get_shop_value(shop)` -> 19"
   ]
  },
  {
   "cell_type": "code",
   "execution_count": 20,
   "metadata": {},
   "outputs": [
    {
     "name": "stdout",
     "output_type": "stream",
     "text": [
      "50\n",
      "19.0\n"
     ]
    }
   ],
   "source": [
    "shop = [\n",
    "    {\"name\": \"Apple\", \"quantity\": 30, \"price\": 0.50}, # 15\n",
    "    {\"name\": \"Banana\", \"quantity\": 20, \"price\": 0.20}, # 4\n",
    "]\n",
    "\n",
    "def get_total_items(shop):\n",
    "    total = 0\n",
    "    for item in shop:\n",
    "        total += item[\"quantity\"]\n",
    "    return total\n",
    "\n",
    "def get_shop_value(shop):\n",
    "    shop_value = 0\n",
    "    for item in shop:\n",
    "        shop_value += item[\"quantity\"]*item[\"price\"]\n",
    "    return shop_value\n",
    "\n",
    "print(get_total_items(shop))\n",
    "print(get_shop_value(shop))\n",
    "\n",
    "\n",
    "# 1. `get_total_items(shop)` -> 50\n",
    "# 2. `get_shop_value(shop)` -> 19"
   ]
  },
  {
   "cell_type": "code",
   "execution_count": 22,
   "metadata": {},
   "outputs": [
    {
     "name": "stdout",
     "output_type": "stream",
     "text": [
      "50\n",
      "19.0\n"
     ]
    }
   ],
   "source": [
    "def get_total_items(shop):\n",
    "    total = [item[\"quantity\"]for item in shop]\n",
    "    return sum(total)\n",
    "\n",
    "def get_shop_value(shop):\n",
    "    shop_value = [item[\"quantity\"]*item[\"price\"]for item in shop]\n",
    "    return sum(shop_value)\n",
    "\n",
    "print(get_total_items(shop))\n",
    "print(get_shop_value(shop))"
   ]
  },
  {
   "cell_type": "markdown",
   "metadata": {},
   "source": [
    "def sub_menu():\n",
    "    while True: # infinite loop\n",
    "        print(\"Hi, 🍍\")\n",
    "        choice = input(\"Do you want to print again Y/N\")\n",
    "        if choice == \"N\":\n",
    "            break\n",
    "\n",
    "sub_menu()\n",
    "## Task 1\n",
    "\n",
    "`add_new_product(shop)`\n",
    "\n",
    "\n",
    "Expected Output\n",
    "```\n",
    "What is the product name? Orange\n",
    "What is the quantity? 50\n",
    "What is the price? 0.30\n",
    "Added Orange to shop.\n",
    "```\n",
    "\n",
    "`print(shop)`\n",
    "\n",
    "## Task 3\n",
    "\n",
    "Main Menu\n",
    "1. Add Product\n",
    "2. Print all product in shop\n",
    "3. Exit\n",
    "\n",
    "What you liked about the training?"
   ]
  },
  {
   "cell_type": "code",
   "execution_count": 25,
   "metadata": {},
   "outputs": [
    {
     "name": "stdout",
     "output_type": "stream",
     "text": [
      "[{'name': 'Apple', 'quantity': 30, 'price': 0.5}, {'name': 'Banana', 'quantity': 20, 'price': 0.2}, {'name': 'Orange', 'quantity': 50, 'price': 0.3}]\n"
     ]
    }
   ],
   "source": [
    "shop = [\n",
    "    {\"name\": \"Apple\", \"quantity\": 30, \"price\": 0.50}, # 15\n",
    "    {\"name\": \"Banana\", \"quantity\": 20, \"price\": 0.20}, # 4\n",
    "]\n",
    "\n",
    "def add_new_product(shop):\n",
    "        name = input(\"What is the product name? \")\n",
    "        quantity = int(input(\"What is the quantity? \"))\n",
    "        price  = float(input(\"What is the product price? \"))\n",
    "        shop.append({\"name\":name, \"quantity\":quantity, \"price\":price})\n",
    "                    \n",
    "add_new_product(shop)\n",
    "print(shop)"
   ]
  },
  {
   "cell_type": "markdown",
   "metadata": {},
   "source": [
    "## Task 2\n",
    "\n",
    "Do you add more Y/N? Y"
   ]
  },
  {
   "cell_type": "code",
   "execution_count": 26,
   "metadata": {},
   "outputs": [
    {
     "name": "stdout",
     "output_type": "stream",
     "text": [
      "[{'name': 'Apple', 'quantity': 30, 'price': 0.5}, {'name': 'Banana', 'quantity': 20, 'price': 0.2}, {'name': 'Orange', 'quantity': 50, 'price': 0.3}]\n"
     ]
    }
   ],
   "source": [
    "shop = [\n",
    "    {\"name\": \"Apple\", \"quantity\": 30, \"price\": 0.50}, # 15\n",
    "    {\"name\": \"Banana\", \"quantity\": 20, \"price\": 0.20}, # 4\n",
    "]\n",
    "\n",
    "def add_new_product(shop):\n",
    "    while True:\n",
    "        name = input(\"What is the product name? \")\n",
    "        quantity = int(input(\"What is the quantity? \"))\n",
    "        price  = float(input(\"What is the product price? \"))\n",
    "        shop.append({\"name\":name, \"quantity\":quantity, \"price\":price})\n",
    "        if input(\"Do you add more Y/N? \") == \"N\":\n",
    "            break\n",
    "                    \n",
    "add_new_product(shop)\n",
    "print(shop)"
   ]
  },
  {
   "cell_type": "markdown",
   "metadata": {},
   "source": [
    "## Task 3\n",
    "\n",
    "Main Menu\n",
    "1. Add Product\n",
    "2. Print all product in shop\n",
    "3. Exit\n",
    "\n",
    "What you liked about the training?"
   ]
  },
  {
   "cell_type": "code",
   "execution_count": 28,
   "metadata": {},
   "outputs": [
    {
     "name": "stdout",
     "output_type": "stream",
     "text": [
      "\n",
      "        Main Menu\n",
      "        1. Add Product\n",
      "        2. Print all product in shop\n",
      "        3. Exit\n",
      "            \n",
      "Bye\n"
     ]
    }
   ],
   "source": [
    "shop = [\n",
    "    {\"name\": \"Apple\", \"quantity\": 30, \"price\": 0.50}, # 15\n",
    "    {\"name\": \"Banana\", \"quantity\": 20, \"price\": 0.20}, # 4\n",
    "]\n",
    "\n",
    "def add_new_product(shop):\n",
    "    while True:\n",
    "        name = input(\"What is the product name? \")\n",
    "        quantity = int(input(\"What is the quantity? \"))\n",
    "        price  = float(input(\"What is the product price? \"))\n",
    "        shop.append({\"name\":name, \"quantity\":quantity, \"price\":price})\n",
    "        if input(\"Do you add more Y/N? \") == \"N\":\n",
    "            break\n",
    "\n",
    "def showmainmenu():\n",
    "    print(\"\"\"\n",
    "        Main Menu\n",
    "        1. Add Product\n",
    "        2. Print all product in shop\n",
    "        3. Exit\n",
    "            \"\"\")\n",
    "\n",
    "while True:\n",
    "    print(\"\"\"\n",
    "        Main Menu\n",
    "        1. Add Product\n",
    "        2. Print all product in shop\n",
    "        3. Exit\n",
    "            \"\"\")\n",
    "    num = int(input(\"what you liked about the training? \"))\n",
    "\n",
    "    if num == 1:\n",
    "        add_new_product(shop)\n",
    "    elif num == 2:\n",
    "        print(shop)\n",
    "    else:\n",
    "        print(\"Bye\")\n",
    "        break"
   ]
  },
  {
   "cell_type": "markdown",
   "metadata": {},
   "source": [
    "https://www.linkedin.com/in/ragavkumarv/\n",
    "+91 6382549376"
   ]
  },
  {
   "cell_type": "code",
   "execution_count": null,
   "metadata": {},
   "outputs": [],
   "source": []
  }
 ],
 "metadata": {
  "kernelspec": {
   "display_name": "Python 3",
   "language": "python",
   "name": "python3"
  },
  "language_info": {
   "codemirror_mode": {
    "name": "ipython",
    "version": 3
   },
   "file_extension": ".py",
   "mimetype": "text/x-python",
   "name": "python",
   "nbconvert_exporter": "python",
   "pygments_lexer": "ipython3",
   "version": "3.13.0"
  }
 },
 "nbformat": 4,
 "nbformat_minor": 2
}
