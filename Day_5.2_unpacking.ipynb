{
 "cells": [
  {
   "cell_type": "markdown",
   "metadata": {},
   "source": [
    "# Multiple Variable assignment"
   ]
  },
  {
   "cell_type": "code",
   "execution_count": 1,
   "metadata": {},
   "outputs": [
    {
     "name": "stdout",
     "output_type": "stream",
     "text": [
      "0 0 0\n"
     ]
    }
   ],
   "source": [
    "a = 0\n",
    "b = 0\n",
    "c = 0\n",
    "\n",
    "print(a,b,c)"
   ]
  },
  {
   "cell_type": "code",
   "execution_count": 2,
   "metadata": {},
   "outputs": [
    {
     "name": "stdout",
     "output_type": "stream",
     "text": [
      "0 0 0\n"
     ]
    }
   ],
   "source": [
    "a = b = c = 0\n",
    "\n",
    "print(a,b,c)"
   ]
  },
  {
   "cell_type": "code",
   "execution_count": null,
   "metadata": {},
   "outputs": [
    {
     "name": "stdout",
     "output_type": "stream",
     "text": [
      "10 15 20\n"
     ]
    }
   ],
   "source": [
    "# Unpacking\n",
    "a, b, c = 10, 15, 20 # Assigning Multiple Values\n",
    "\n",
    "# 10, 15, 20 _ Tuple | (10, 15, 20) _ Tuple\n",
    "\n",
    "print(a,b,c)"
   ]
  },
  {
   "cell_type": "code",
   "execution_count": 4,
   "metadata": {},
   "outputs": [
    {
     "name": "stdout",
     "output_type": "stream",
     "text": [
      "10 20\n"
     ]
    }
   ],
   "source": [
    "# skip b\n",
    "\n",
    "a, _, c = (10,15,20)\n",
    "print(a,c)"
   ]
  },
  {
   "cell_type": "code",
   "execution_count": 5,
   "metadata": {},
   "outputs": [
    {
     "data": {
      "text/plain": [
       "['🦸\\u200d♂️ Batman',\n",
       " '🦸\\u200d♂️ Superman',\n",
       " '🦹\\u200d♂️ Joker',\n",
       " '🦹\\u200d♀️ Harley Quinn']"
      ]
     },
     "execution_count": 5,
     "metadata": {},
     "output_type": "execute_result"
    }
   ],
   "source": [
    "# Unpack only Batman & Superman\n",
    "[\"🦸‍♂️ Batman\", \"🦸‍♂️ Superman\", \"🦹‍♂️ Joker\", \"🦹‍♀️ Harley Quinn\"]"
   ]
  },
  {
   "cell_type": "code",
   "execution_count": 10,
   "metadata": {},
   "outputs": [
    {
     "name": "stdout",
     "output_type": "stream",
     "text": [
      "🦸‍♂️ Batman 🦸‍♂️ Superman\n"
     ]
    }
   ],
   "source": [
    "# a,b,c,d=[\"🦸‍♂️ Batman\", \"🦸‍♂️ Superman\", \"🦹‍♂️ Joker\", \"🦹‍♀️ Harley Quinn\"]\n",
    "a,b,_,_=(\"🦸‍♂️ Batman\", \"🦸‍♂️ Superman\", \"🦹‍♂️ Joker\", \"🦹‍♀️ Harley Quinn\")\n",
    "print(a,b)         "
   ]
  },
  {
   "cell_type": "markdown",
   "metadata": {},
   "source": [
    "## Task 1.1 (Without Unpacking)\n",
    "\n",
    "points = [(3, 4), (6, 12) , (10, 13)]\n",
    "\n",
    "\n",
    "## Expected Output\n",
    "\n",
    "distances = [5, 13.41, 16.40]"
   ]
  },
  {
   "cell_type": "code",
   "execution_count": 13,
   "metadata": {},
   "outputs": [
    {
     "name": "stdout",
     "output_type": "stream",
     "text": [
      "[5.0, 13.42, 16.4]\n"
     ]
    }
   ],
   "source": [
    "points = [(3, 4), (6, 12) , (10, 13)]\n",
    "\n",
    "# distances = []\n",
    "\n",
    "# for point in points:\n",
    "#     distances.append(round((point[0]**2+point[1]**2)**0.5, 2))\n",
    "\n",
    "# for point in points:\n",
    "#     print(point,type(point))\n",
    "#     print(point[0],point[1])\n",
    "\n",
    "distances = [round((point[0]**2+point[1]**2)**0.5, 2)for point in points]\n",
    "\n",
    "print(distances)"
   ]
  },
  {
   "cell_type": "code",
   "execution_count": null,
   "metadata": {},
   "outputs": [
    {
     "name": "stdout",
     "output_type": "stream",
     "text": [
      "[5.0, 13.42, 16.4]\n"
     ]
    }
   ],
   "source": [
    "distances = []\n",
    "points = [(3, 4), (6, 12) , (10, 13)]\n",
    "\n",
    "for a,b in points:\n",
    "    distances.append(round((point[0]**2+point[1]**2)**0.5, 2))\n",
    "print(distances)\n",
    "\n",
    "# for point in points:\n",
    "#     a,b = point\n",
    "#     # print(a,b)\n",
    "#     distances.append(round((point[0]**2+point[1]**2)**0.5, 2))\n",
    "# print(distances)"
   ]
  },
  {
   "cell_type": "markdown",
   "metadata": {},
   "source": [
    "## Task 1.2 (With Unpacking)\n",
    "\n",
    "points = [(3, 4), (6, 12) , (10, 13)]\n",
    "\n",
    "\n",
    "## Expected Output\n",
    "\n",
    "distances = [5, 13.41, 16.40]"
   ]
  },
  {
   "cell_type": "code",
   "execution_count": 12,
   "metadata": {},
   "outputs": [
    {
     "name": "stdout",
     "output_type": "stream",
     "text": [
      "5.0 13.42 16.4\n"
     ]
    }
   ],
   "source": [
    "points = [(3, 4), (6, 12) , (10, 13)]\n",
    "\n",
    "a,b,c = [round((point[0]**2+point[1]**2)**0.5, 2)for point in points]\n",
    "\n",
    "print(a,b,c)"
   ]
  },
  {
   "cell_type": "code",
   "execution_count": 22,
   "metadata": {},
   "outputs": [
    {
     "name": "stdout",
     "output_type": "stream",
     "text": [
      "[5.0, 13.42, 16.4]\n"
     ]
    }
   ],
   "source": [
    "points = [(3, 4), (6, 12) , (10, 13)]\n",
    "\n",
    "distances = [round((a**2+b**2)**0.5, 2)for a,b in points]\n",
    "print(distances)"
   ]
  }
 ],
 "metadata": {
  "kernelspec": {
   "display_name": "Python 3",
   "language": "python",
   "name": "python3"
  },
  "language_info": {
   "codemirror_mode": {
    "name": "ipython",
    "version": 3
   },
   "file_extension": ".py",
   "mimetype": "text/x-python",
   "name": "python",
   "nbconvert_exporter": "python",
   "pygments_lexer": "ipython3",
   "version": "3.13.0"
  }
 },
 "nbformat": 4,
 "nbformat_minor": 2
}
