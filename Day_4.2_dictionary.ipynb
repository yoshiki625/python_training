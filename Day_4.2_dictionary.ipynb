{
 "cells": [
  {
   "cell_type": "markdown",
   "metadata": {},
   "source": [
    "# Dictionary\n",
    "\n",
    "Store mixed 5 moultiple values"
   ]
  },
  {
   "cell_type": "code",
   "execution_count": 1,
   "metadata": {},
   "outputs": [
    {
     "data": {
      "text/plain": [
       "19"
      ]
     },
     "execution_count": 1,
     "metadata": {},
     "output_type": "execute_result"
    }
   ],
   "source": [
    "luffy = {\n",
    "        \"name\": \"Monkey D. Luffy\",\n",
    "        \"age\": 19,\n",
    "        \"crew_name\": \"Straw hat pirates\",\n",
    "        \"crew\": [\"zoro\",\"Sanji\",\"Nami\",\"Chopper\"],\n",
    "        \"position\": \"Captain\"\n",
    "}\n",
    "\n",
    "luffy[\"name\"]\n",
    "\n",
    "luffy[\"age\"]"
   ]
  },
  {
   "cell_type": "code",
   "execution_count": 2,
   "metadata": {},
   "outputs": [
    {
     "data": {
      "text/plain": [
       "'Monkey D. Luffy'"
      ]
     },
     "execution_count": 2,
     "metadata": {},
     "output_type": "execute_result"
    }
   ],
   "source": [
    "luffy[\"name\"]"
   ]
  },
  {
   "cell_type": "code",
   "execution_count": 3,
   "metadata": {},
   "outputs": [
    {
     "data": {
      "text/plain": [
       "19"
      ]
     },
     "execution_count": 3,
     "metadata": {},
     "output_type": "execute_result"
    }
   ],
   "source": [
    "luffy[\"age\"]"
   ]
  },
  {
   "cell_type": "code",
   "execution_count": 4,
   "metadata": {},
   "outputs": [
    {
     "data": {
      "text/plain": [
       "dict"
      ]
     },
     "execution_count": 4,
     "metadata": {},
     "output_type": "execute_result"
    }
   ],
   "source": [
    "type(luffy) # dict"
   ]
  },
  {
   "cell_type": "code",
   "execution_count": 5,
   "metadata": {},
   "outputs": [
    {
     "data": {
      "text/plain": [
       "{'name': 'Monkey D. Luffy',\n",
       " 'age': 19,\n",
       " 'crew_name': 'Straw hat pirates',\n",
       " 'crew': ['zoro', 'Sanji', 'Nami', 'Chopper'],\n",
       " 'position': 'Captain'}"
      ]
     },
     "execution_count": 5,
     "metadata": {},
     "output_type": "execute_result"
    }
   ],
   "source": [
    "luffy"
   ]
  },
  {
   "cell_type": "code",
   "execution_count": 6,
   "metadata": {},
   "outputs": [],
   "source": [
    "luffy[\"age\"]= 20"
   ]
  },
  {
   "cell_type": "code",
   "execution_count": 7,
   "metadata": {},
   "outputs": [
    {
     "data": {
      "text/plain": [
       "{'name': 'Monkey D. Luffy',\n",
       " 'age': 20,\n",
       " 'crew_name': 'Straw hat pirates',\n",
       " 'crew': ['zoro', 'Sanji', 'Nami', 'Chopper'],\n",
       " 'position': 'Captain'}"
      ]
     },
     "execution_count": 7,
     "metadata": {},
     "output_type": "execute_result"
    }
   ],
   "source": [
    "luffy"
   ]
  },
  {
   "cell_type": "code",
   "execution_count": 8,
   "metadata": {},
   "outputs": [],
   "source": [
    "luffy[\"age\"] += 1"
   ]
  },
  {
   "cell_type": "code",
   "execution_count": 9,
   "metadata": {},
   "outputs": [
    {
     "data": {
      "text/plain": [
       "{'name': 'Monkey D. Luffy',\n",
       " 'age': 21,\n",
       " 'crew_name': 'Straw hat pirates',\n",
       " 'crew': ['zoro', 'Sanji', 'Nami', 'Chopper'],\n",
       " 'position': 'Captain'}"
      ]
     },
     "execution_count": 9,
     "metadata": {},
     "output_type": "execute_result"
    }
   ],
   "source": [
    "luffy"
   ]
  },
  {
   "cell_type": "markdown",
   "metadata": {},
   "source": [
    "# Methods\n",
    "- keys()\n",
    "- values()\n",
    "- item()"
   ]
  },
  {
   "cell_type": "markdown",
   "metadata": {},
   "source": [
    "## Task 1.1\n",
    "Please provide the list of book titles\n",
    "\n",
    "\n",
    "```python\n",
    "books = [\n",
    "    {\"title\": \"Infinite Jest\", \"rating\": 4.5, \"genre\": \"Fiction\"},\n",
    "    {\"title\": \"The Catcher in the Rye\", \"rating\": 3.9, \"genre\": \"Fiction\"},\n",
    "    {\"title\": \"Sapiens\", \"rating\": 4.9, \"genre\": \"History\"},\n",
    "    {\"title\": \"A Brief History of Time\", \"rating\": 4.8, \"genre\": \"Science\"},\n",
    "    {\"title\": \"Clean Code\", \"rating\": 4.7, \"genre\": \"Technology\"},\n",
    "]\n",
    "\n",
    "```\n",
    "\n",
    "### Expected Output\n",
    "```\n",
    "[\"Infinite Jest\",  \"The Catcher in the Rye\", \"S\n"
   ]
  },
  {
   "cell_type": "code",
   "execution_count": 10,
   "metadata": {},
   "outputs": [
    {
     "name": "stdout",
     "output_type": "stream",
     "text": [
      "['Infinite Jest', 'The Catcher in the Rye', 'Sapiens', 'A Brief History of Time', 'Clean Code']\n"
     ]
    }
   ],
   "source": [
    "books = [\n",
    "    {\"title\": \"Infinite Jest\", \"rating\": 4.5, \"genre\": \"Fiction\"},\n",
    "    {\"title\": \"The Catcher in the Rye\", \"rating\": 3.9, \"genre\": \"Fiction\"},\n",
    "    {\"title\": \"Sapiens\", \"rating\": 4.9, \"genre\": \"History\"},\n",
    "    {\"title\": \"A Brief History of Time\", \"rating\": 4.8, \"genre\": \"Science\"},\n",
    "    {\"title\": \"Clean Code\", \"rating\": 4.7, \"genre\": \"Technology\"},\n",
    "]\n",
    "\n",
    "title_list = []\n",
    "for book in books:\n",
    "    title_list.append(book[\"title\"])\n",
    "print(title_list)\n",
    "\n"
   ]
  },
  {
   "cell_type": "markdown",
   "metadata": {},
   "source": [
    "## Task 1.2\n",
    "Please provide the only Fiction books\n",
    "\n",
    "\n",
    "### Expected Output\n",
    "```\n",
    "[\"Infinite Jest\",  \"The Catcher in the Rye\"]\n",
    "```\n",
    "### Expected Output\n",
    "```\n",
    "[\"Infinite Jest\",  \"The Catcher in the Rye\", \"Sapiens\",  \"A Brief History of Time\",  \"Clean Code\"]\n",
    "```\n"
   ]
  },
  {
   "cell_type": "code",
   "execution_count": 11,
   "metadata": {},
   "outputs": [
    {
     "name": "stdout",
     "output_type": "stream",
     "text": [
      "['Infinite Jest', 'The Catcher in the Rye']\n"
     ]
    }
   ],
   "source": [
    "fiction_list = []\n",
    "for book in books:\n",
    "    if book [\"genre\"] == \"Fiction\":\n",
    "        fiction_list.append(book[\"title\"])\n",
    "print(fiction_list)\n"
   ]
  },
  {
   "cell_type": "markdown",
   "metadata": {},
   "source": [
    "## Task 1.3\n",
    "Please provide Highest rated books (>= 4.7)\n",
    "\n",
    "\n",
    "### Expected Output\n",
    "```\n",
    "Highest rated books are: Sapiens, A Brief History of Time and Clean Code \n",
    "```\n",
    "```"
   ]
  },
  {
   "cell_type": "code",
   "execution_count": 12,
   "metadata": {},
   "outputs": [
    {
     "name": "stdout",
     "output_type": "stream",
     "text": [
      "Highest rated books are:['Sapiens', 'A Brief History of Time', 'Clean Code']\n",
      "Highest rated books are: Sapiens, A Brief History of Time and Clean Code\n"
     ]
    }
   ],
   "source": [
    "high_rate_book = []\n",
    "for book in books:\n",
    "    if book [\"rating\"] >= 4.7:\n",
    "        high_rate_book.append(book[\"title\"])\n",
    "print(f\"Highest rated books are:{high_rate_book}\")\n",
    "\n",
    "# high_rate_book_string = \", \".join(high_rate_book[:-1])+\" and \"+high_rate_book[-1]\n",
    "high_rate_book_string = f\"{', '.join(high_rate_book[:-1])} and {high_rate_book[-1]}\"\n",
    "print(f\"Highest rated books are: {high_rate_book_string}\")\n",
    "\n"
   ]
  },
  {
   "cell_type": "markdown",
   "metadata": {},
   "source": [
    "## Task 1.4\n",
    "\n",
    "Get fav genre from user\n",
    "\n",
    "### Expected Output\n",
    "\n",
    "```\n",
    "Genre? Fiction\n",
    "Average rating of Fiction: 4.2\n",
    "```"
   ]
  },
  {
   "cell_type": "code",
   "execution_count": 13,
   "metadata": {},
   "outputs": [],
   "source": [
    "books = [\n",
    "    {\"title\": \"Infinite Jest\", \"rating\": 4.5, \"genre\": \"Fiction\"},\n",
    "    {\"title\": \"The Catcher in the Rye\", \"rating\": 3.9, \"genre\": \"Fiction\"},\n",
    "    {\"title\": \"Sapiens\", \"rating\": 4.9, \"genre\": \"History\"},\n",
    "    {\"title\": \"A Brief History of Time\", \"rating\": 4.8, \"genre\": \"Science\"},\n",
    "    {\"title\": \"Clean Code\", \"rating\": 4.7, \"genre\": \"Technology\"},\n",
    "]"
   ]
  },
  {
   "cell_type": "code",
   "execution_count": null,
   "metadata": {},
   "outputs": [
    {
     "name": "stdout",
     "output_type": "stream",
     "text": [
      "Average rating of fiction: 4.2\n"
     ]
    }
   ],
   "source": [
    "\n",
    "\n",
    "genre = input(\"Genre? \").lower()\n",
    "count = 0\n",
    "total_rating = 0\n",
    "average = 0\n",
    "\n",
    "for book in books:\n",
    "    if book [\"genre\"].lower() == genre:\n",
    "        total_rating += book[\"rating\"]\n",
    "        count += 1\n",
    "\n",
    "if count != 0:\n",
    "    average = total_rating/count\n",
    "    print(f\"Average rating of {genre}: {average}\")\n",
    "else:\n",
    "    print(f\"no value\")\n",
    "\n"
   ]
  },
  {
   "cell_type": "code",
   "execution_count": 25,
   "metadata": {},
   "outputs": [
    {
     "name": "stdout",
     "output_type": "stream",
     "text": [
      "Average rating of fiction: 4.2\n"
     ]
    }
   ],
   "source": [
    "genre = input(\"Genre? \").lower()\n",
    "target_list =[]\n",
    "\n",
    "for book in books:\n",
    "    if book [\"genre\"].lower() == genre:\n",
    "        target_list.append(book[\"rating\"])\n",
    "if len(target_list) != 0:\n",
    "    average = sum(target_list)/len(target_list)\n",
    "    print(f\"Average rating of {genre}: {average}\")\n",
    "else:\n",
    "    print(f\"no value\")"
   ]
  },
  {
   "cell_type": "code",
   "execution_count": null,
   "metadata": {},
   "outputs": [],
   "source": [
    "fruits = [\"🍎\", \"🍊\", \"🍓\", \"🍍\"]\n",
    "\n",
    "# \", \".join(fruits)\n",
    "\n",
    "\", \".join(fruits[0:-1]) + \" and \" + fruits[-1]"
   ]
  },
  {
   "cell_type": "code",
   "execution_count": null,
   "metadata": {},
   "outputs": [],
   "source": []
  }
 ],
 "metadata": {
  "kernelspec": {
   "display_name": "Python 3",
   "language": "python",
   "name": "python3"
  },
  "language_info": {
   "codemirror_mode": {
    "name": "ipython",
    "version": 3
   },
   "file_extension": ".py",
   "mimetype": "text/x-python",
   "name": "python",
   "nbconvert_exporter": "python",
   "pygments_lexer": "ipython3",
   "version": "3.13.0"
  }
 },
 "nbformat": 4,
 "nbformat_minor": 2
}
